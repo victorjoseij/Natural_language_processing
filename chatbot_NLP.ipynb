{
  "nbformat": 4,
  "nbformat_minor": 0,
  "metadata": {
    "colab": {
      "provenance": [],
      "authorship_tag": "ABX9TyM1907ZaaNy+kFiwYr5I8Oq",
      "include_colab_link": true
    },
    "kernelspec": {
      "name": "python3",
      "display_name": "Python 3"
    },
    "language_info": {
      "name": "python"
    }
  },
  "cells": [
    {
      "cell_type": "markdown",
      "metadata": {
        "id": "view-in-github",
        "colab_type": "text"
      },
      "source": [
        "<a href=\"https://colab.research.google.com/github/victorjoseij/Natural_language_processing/blob/main/chatbot_NLP.ipynb\" target=\"_parent\"><img src=\"https://colab.research.google.com/assets/colab-badge.svg\" alt=\"Open In Colab\"/></a>"
      ]
    },
    {
      "cell_type": "code",
      "source": [
        "import streamlit as st\n",
        "from langchain.prompts import PromptTemplate\n",
        "from langchain.llms import CTransformers\n",
        "\n",
        "## Function To get response from LLAma 2 model\n",
        "\n",
        "def getLLamaresponse(input_text,no_words,blog_style):\n",
        "\n",
        "    ### LLama2 model\n",
        "    llm=CTransformers(model='models/llama-2-7b.ggmlv3.q4_K_M.bin',\n",
        "                      model_type='llama',\n",
        "                      config={'max_new_tokens':256,\n",
        "                              'temperature':0.01})\n",
        "\n",
        "    ## Prompt Template\n",
        "\n",
        "    template=\"\"\"\n",
        "        Write a blog for {blog_style} job profile for a topic {input_text}\n",
        "        within {no_words} words.\n",
        "            \"\"\"\n",
        "\n",
        "    prompt=PromptTemplate(input_variables=[\"blog_style\",\"input_text\",'no_words'],\n",
        "                          template=template)\n",
        "\n",
        "    ## Generate the ressponse from the LLama 2 model\n",
        "    response=llm(prompt.format(blog_style=blog_style,input_text=input_text,no_words=no_words))\n",
        "    print(response)\n",
        "    return response\n",
        "\n",
        "\n",
        "\n",
        "\n",
        "\n",
        "\n",
        "st.set_page_config(page_title=\"Generate Blogs\",\n",
        "                    page_icon='🤖',\n",
        "                    layout='centered',\n",
        "                    initial_sidebar_state='collapsed')\n",
        "\n",
        "st.header(\"Generate Blogs 🤖\")\n",
        "\n",
        "input_text=st.text_input(\"Enter the Blog Topic\")\n",
        "\n",
        "## creating to more columns for additonal 2 fields\n",
        "\n",
        "col1,col2=st.columns([5,5])\n",
        "\n",
        "with col1:\n",
        "    no_words=st.text_input('No of Words')\n",
        "with col2:\n",
        "    blog_style=st.selectbox('Writing the blog for',\n",
        "                            ('Researchers','Data Scientist','Common People'),index=0)\n",
        "\n",
        "submit=st.button(\"Generate\")\n",
        "\n",
        "## Final response\n",
        "if submit:\n",
        "    st.write(getLLamaresponse(input_text,no_words,blog_style))"
      ],
      "metadata": {
        "id": "JKIEeji7ni0Q",
        "colab": {
          "base_uri": "https://localhost:8080/",
          "height": 383
        },
        "outputId": "d624d65f-45bd-4948-a29c-989582cb7eb4"
      },
      "execution_count": 2,
      "outputs": [
        {
          "output_type": "error",
          "ename": "ModuleNotFoundError",
          "evalue": "No module named 'streamlit'",
          "traceback": [
            "\u001b[0;31m---------------------------------------------------------------------------\u001b[0m",
            "\u001b[0;31mModuleNotFoundError\u001b[0m                       Traceback (most recent call last)",
            "\u001b[0;32m<ipython-input-2-66fa11cfd398>\u001b[0m in \u001b[0;36m<cell line: 1>\u001b[0;34m()\u001b[0m\n\u001b[0;32m----> 1\u001b[0;31m \u001b[0;32mimport\u001b[0m \u001b[0mstreamlit\u001b[0m \u001b[0;32mas\u001b[0m \u001b[0mst\u001b[0m\u001b[0;34m\u001b[0m\u001b[0;34m\u001b[0m\u001b[0m\n\u001b[0m\u001b[1;32m      2\u001b[0m \u001b[0;32mfrom\u001b[0m \u001b[0mlangchain\u001b[0m\u001b[0;34m.\u001b[0m\u001b[0mprompts\u001b[0m \u001b[0;32mimport\u001b[0m \u001b[0mPromptTemplate\u001b[0m\u001b[0;34m\u001b[0m\u001b[0;34m\u001b[0m\u001b[0m\n\u001b[1;32m      3\u001b[0m \u001b[0;32mfrom\u001b[0m \u001b[0mlangchain\u001b[0m\u001b[0;34m.\u001b[0m\u001b[0mllms\u001b[0m \u001b[0;32mimport\u001b[0m \u001b[0mCTransformers\u001b[0m\u001b[0;34m\u001b[0m\u001b[0;34m\u001b[0m\u001b[0m\n\u001b[1;32m      4\u001b[0m \u001b[0;34m\u001b[0m\u001b[0m\n\u001b[1;32m      5\u001b[0m \u001b[0;31m## Function To get response from LLAma 2 model\u001b[0m\u001b[0;34m\u001b[0m\u001b[0;34m\u001b[0m\u001b[0m\n",
            "\u001b[0;31mModuleNotFoundError\u001b[0m: No module named 'streamlit'",
            "",
            "\u001b[0;31m---------------------------------------------------------------------------\u001b[0;32m\nNOTE: If your import is failing due to a missing package, you can\nmanually install dependencies using either !pip or !apt.\n\nTo view examples of installing some common dependencies, click the\n\"Open Examples\" button below.\n\u001b[0;31m---------------------------------------------------------------------------\u001b[0m\n"
          ],
          "errorDetails": {
            "actions": [
              {
                "action": "open_url",
                "actionText": "Open Examples",
                "url": "/notebooks/snippets/importing_libraries.ipynb"
              }
            ]
          }
        }
      ]
    }
  ]
}