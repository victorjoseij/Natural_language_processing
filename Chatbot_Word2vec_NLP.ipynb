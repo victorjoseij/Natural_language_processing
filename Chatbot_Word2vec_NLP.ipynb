{
  "nbformat": 4,
  "nbformat_minor": 0,
  "metadata": {
    "colab": {
      "provenance": [],
      "authorship_tag": "ABX9TyOD0QO5XyCx57Bw4HZdmPzu",
      "include_colab_link": true
    },
    "kernelspec": {
      "name": "python3",
      "display_name": "Python 3"
    },
    "language_info": {
      "name": "python"
    }
  },
  "cells": [
    {
      "cell_type": "markdown",
      "metadata": {
        "id": "view-in-github",
        "colab_type": "text"
      },
      "source": [
        "<a href=\"https://colab.research.google.com/github/victorjoseij/Natural_language_processing/blob/main/Chatbot_Word2vec_NLP.ipynb\" target=\"_parent\"><img src=\"https://colab.research.google.com/assets/colab-badge.svg\" alt=\"Open In Colab\"/></a>"
      ]
    },
    {
      "cell_type": "code",
      "execution_count": null,
      "metadata": {
        "colab": {
          "base_uri": "https://localhost:8080/"
        },
        "id": "cnWNZQQJsG2O",
        "outputId": "ed085ee1-393a-469d-9f30-1beaeed83274"
      },
      "outputs": [
        {
          "output_type": "stream",
          "name": "stderr",
          "text": [
            "[nltk_data] Downloading package punkt to /root/nltk_data...\n",
            "[nltk_data]   Unzipping tokenizers/punkt.zip.\n"
          ]
        },
        {
          "name": "stdout",
          "output_type": "stream",
          "text": [
            "Chatbot is online! Type 'quit' to exit.\n",
            "You: QUIT\n"
          ]
        }
      ],
      "source": [
        "import nltk\n",
        "from nltk.chat.util import Chat, reflections\n",
        "\n",
        "# Download necessary NLTK resources\n",
        "nltk.download('punkt')\n",
        "\n",
        "# Define some pairs and reflections\n",
        "pairs = [\n",
        "    [\n",
        "        r\"my name is (.*)\",\n",
        "        [\"Hello %1, how can I help you today?\"]\n",
        "    ],\n",
        "    [\n",
        "        r\"what is your name?\",\n",
        "        [\"My name is Bard, a large language model.\"]\n",
        "    ],\n",
        "    [\n",
        "        r\"how are you doing?\",\n",
        "        [\"I'm doing well, thanks for asking!\"]\n",
        "    ],\n",
        "]\n",
        "\n",
        "# Define the reflection list\n",
        "reflections = reflections\n",
        "\n",
        "# Create the chatbot object\n",
        "chatbot = Chat(pairs, reflections)\n",
        "\n",
        "# Start the conversation\n",
        "print(\"Chatbot is online! Type 'quit' to exit.\")\n",
        "while True:\n",
        "    message = input(\"You: \")\n",
        "    if message.lower() == \"quit\":\n",
        "        break\n",
        "    response = chatbot.respond(message)\n",
        "    print(\"Chatbot: \", response)\n"
      ]
    },
    {
      "cell_type": "code",
      "source": [
        "from gensim.models import Word2Vec\n",
        "\n",
        "# Sample sentences with \"king\" included\n",
        "sentences = [\n",
        "    [\"I\", \"love\", \"natural\", \"language\", \"processing\"],\n",
        "    [\"Python\", \"is\", \"a\", \"great\", \"language\"],\n",
        "    [\"Chatbots\", \"are\", \"becoming\", \"increasingly\", \"popular\"],\n",
        "    [\"The\", \"king\", \"ruled\", \"with\", \"wisdom\"]  # Sentence including \"king\"\n",
        "]\n",
        "\n",
        "# Train the Word2Vec model\n",
        "model = Word2Vec(sentences, min_count=1)\n",
        "\n",
        "# Access word vector (assuming \"king\" is now present)\n",
        "word_vector = model.wv['king']\n",
        "\n",
        "# You can use libraries like Matplotlib to visualize the word vectors in a high-dimensional space\n"
      ],
      "metadata": {
        "id": "3WWfRcCOsb75"
      },
      "execution_count": null,
      "outputs": []
    }
  ]
}