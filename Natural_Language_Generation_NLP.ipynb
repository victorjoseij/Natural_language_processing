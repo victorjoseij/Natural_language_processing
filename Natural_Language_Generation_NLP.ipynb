{
  "nbformat": 4,
  "nbformat_minor": 0,
  "metadata": {
    "colab": {
      "provenance": [],
      "authorship_tag": "ABX9TyM4+0qpGzMfHG/F3z9HmSzg",
      "include_colab_link": true
    },
    "kernelspec": {
      "name": "python3",
      "display_name": "Python 3"
    },
    "language_info": {
      "name": "python"
    }
  },
  "cells": [
    {
      "cell_type": "markdown",
      "metadata": {
        "id": "view-in-github",
        "colab_type": "text"
      },
      "source": [
        "<a href=\"https://colab.research.google.com/github/victorjoseij/Natural_language_processing/blob/main/Natural_Language_Generation_NLP.ipynb\" target=\"_parent\"><img src=\"https://colab.research.google.com/assets/colab-badge.svg\" alt=\"Open In Colab\"/></a>"
      ]
    },
    {
      "cell_type": "markdown",
      "source": [
        "edit distance\n"
      ],
      "metadata": {
        "id": "T0mGwH_YYr2K"
      }
    },
    {
      "cell_type": "code",
      "execution_count": null,
      "metadata": {
        "colab": {
          "base_uri": "https://localhost:8080/"
        },
        "id": "IH5VJOLwYCUs",
        "outputId": "1bd3421e-869b-4179-9718-bbceca11fb20"
      },
      "outputs": [
        {
          "output_type": "stream",
          "name": "stdout",
          "text": [
            "Edit distance between 'kitten' and 'sitting' is: 3\n"
          ]
        }
      ],
      "source": [
        "def edit_distance(str1, str2):\n",
        "    m = len(str1)\n",
        "    n = len(str2)\n",
        "    dp = [[0] * (n + 1) for _ in range(m + 1)]\n",
        "\n",
        "    for i in range(m + 1):\n",
        "        for j in range(n + 1):\n",
        "            if i == 0:\n",
        "                dp[i][j] = j\n",
        "            elif j == 0:\n",
        "                dp[i][j] = i\n",
        "            elif str1[i - 1] == str2[j - 1]:\n",
        "                dp[i][j] = dp[i - 1][j - 1]\n",
        "            else:\n",
        "                dp[i][j] = 1 + min(dp[i - 1][j - 1], dp[i][j - 1], dp[i - 1][j])\n",
        "\n",
        "    return dp[m][n]\n",
        "\n",
        "# Example usage:\n",
        "str1 = \"kitten\"\n",
        "str2 = \"sitting\"\n",
        "print(\"Edit distance between '{}' and '{}' is: {}\".format(str1, str2, edit_distance(str1, str2)))"
      ]
    },
    {
      "cell_type": "markdown",
      "source": [
        "generate a poem or story using nlg"
      ],
      "metadata": {
        "id": "nnN06hVwYvb1"
      }
    },
    {
      "cell_type": "code",
      "source": [
        "import random\n",
        "from nltk import CFG\n",
        "from nltk.parse.generate import generate"
      ],
      "metadata": {
        "id": "K107PyK6Y06G"
      },
      "execution_count": null,
      "outputs": []
    },
    {
      "cell_type": "code",
      "source": [
        "def generate_story(keywords):\n",
        "    grammar = CFG.fromstring(\"\"\"\n",
        "    S -> NP VP\n",
        "    NP -> Det N | Det N PP | 'I'\n",
        "    VP -> V NP | VP PP\n",
        "    Det -> 'a' | 'an' | 'the' | 'my'\n",
        "    N -> 'cat' | 'dog' | 'man' | 'woman' | 'park' | 'car'\n",
        "    V -> 'saw' | 'ate' | 'walked' | 'ran' | 'drove'\n",
        "    PP -> P NP\n",
        "    P -> 'in' | 'on' | 'at' | 'by' | 'with'\n",
        "    \"\"\")\n",
        "    sentences = generate(grammar, depth=4)\n",
        "\n",
        "    story = []\n",
        "    for sent in sentences:\n",
        "        story.append(' '.join(sent))\n",
        "\n",
        "    return story\n",
        "\n",
        "# Example usage:\n",
        "keywords = [\"dog\", \"park\", \"ran\"]\n",
        "story = generate_story(keywords)\n",
        "print(\"\\n\".join(story))"
      ],
      "metadata": {
        "id": "gXEqJ0wiY8zu",
        "outputId": "f09134dd-e9db-4f87-e7ce-d689de2ba532",
        "colab": {
          "base_uri": "https://localhost:8080/"
        }
      },
      "execution_count": null,
      "outputs": [
        {
          "output_type": "stream",
          "name": "stdout",
          "text": [
            "a cat saw I\n",
            "a cat ate I\n",
            "a cat walked I\n",
            "a cat ran I\n",
            "a cat drove I\n",
            "a dog saw I\n",
            "a dog ate I\n",
            "a dog walked I\n",
            "a dog ran I\n",
            "a dog drove I\n",
            "a man saw I\n",
            "a man ate I\n",
            "a man walked I\n",
            "a man ran I\n",
            "a man drove I\n",
            "a woman saw I\n",
            "a woman ate I\n",
            "a woman walked I\n",
            "a woman ran I\n",
            "a woman drove I\n",
            "a park saw I\n",
            "a park ate I\n",
            "a park walked I\n",
            "a park ran I\n",
            "a park drove I\n",
            "a car saw I\n",
            "a car ate I\n",
            "a car walked I\n",
            "a car ran I\n",
            "a car drove I\n",
            "an cat saw I\n",
            "an cat ate I\n",
            "an cat walked I\n",
            "an cat ran I\n",
            "an cat drove I\n",
            "an dog saw I\n",
            "an dog ate I\n",
            "an dog walked I\n",
            "an dog ran I\n",
            "an dog drove I\n",
            "an man saw I\n",
            "an man ate I\n",
            "an man walked I\n",
            "an man ran I\n",
            "an man drove I\n",
            "an woman saw I\n",
            "an woman ate I\n",
            "an woman walked I\n",
            "an woman ran I\n",
            "an woman drove I\n",
            "an park saw I\n",
            "an park ate I\n",
            "an park walked I\n",
            "an park ran I\n",
            "an park drove I\n",
            "an car saw I\n",
            "an car ate I\n",
            "an car walked I\n",
            "an car ran I\n",
            "an car drove I\n",
            "the cat saw I\n",
            "the cat ate I\n",
            "the cat walked I\n",
            "the cat ran I\n",
            "the cat drove I\n",
            "the dog saw I\n",
            "the dog ate I\n",
            "the dog walked I\n",
            "the dog ran I\n",
            "the dog drove I\n",
            "the man saw I\n",
            "the man ate I\n",
            "the man walked I\n",
            "the man ran I\n",
            "the man drove I\n",
            "the woman saw I\n",
            "the woman ate I\n",
            "the woman walked I\n",
            "the woman ran I\n",
            "the woman drove I\n",
            "the park saw I\n",
            "the park ate I\n",
            "the park walked I\n",
            "the park ran I\n",
            "the park drove I\n",
            "the car saw I\n",
            "the car ate I\n",
            "the car walked I\n",
            "the car ran I\n",
            "the car drove I\n",
            "my cat saw I\n",
            "my cat ate I\n",
            "my cat walked I\n",
            "my cat ran I\n",
            "my cat drove I\n",
            "my dog saw I\n",
            "my dog ate I\n",
            "my dog walked I\n",
            "my dog ran I\n",
            "my dog drove I\n",
            "my man saw I\n",
            "my man ate I\n",
            "my man walked I\n",
            "my man ran I\n",
            "my man drove I\n",
            "my woman saw I\n",
            "my woman ate I\n",
            "my woman walked I\n",
            "my woman ran I\n",
            "my woman drove I\n",
            "my park saw I\n",
            "my park ate I\n",
            "my park walked I\n",
            "my park ran I\n",
            "my park drove I\n",
            "my car saw I\n",
            "my car ate I\n",
            "my car walked I\n",
            "my car ran I\n",
            "my car drove I\n",
            "I saw I\n",
            "I ate I\n",
            "I walked I\n",
            "I ran I\n",
            "I drove I\n"
          ]
        }
      ]
    }
  ]
}