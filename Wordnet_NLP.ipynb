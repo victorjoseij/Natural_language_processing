{
  "nbformat": 4,
  "nbformat_minor": 0,
  "metadata": {
    "colab": {
      "provenance": [],
      "authorship_tag": "ABX9TyMFn0oZ3YnfWzwKwSD6GCVl",
      "include_colab_link": true
    },
    "kernelspec": {
      "name": "python3",
      "display_name": "Python 3"
    },
    "language_info": {
      "name": "python"
    }
  },
  "cells": [
    {
      "cell_type": "markdown",
      "metadata": {
        "id": "view-in-github",
        "colab_type": "text"
      },
      "source": [
        "<a href=\"https://colab.research.google.com/github/victorjoseij/Natural_language_processing/blob/main/Wordnet_NLP.ipynb\" target=\"_parent\"><img src=\"https://colab.research.google.com/assets/colab-badge.svg\" alt=\"Open In Colab\"/></a>"
      ]
    },
    {
      "cell_type": "code",
      "source": [
        "import nltk\n",
        "nltk.download('wordnet')\n"
      ],
      "metadata": {
        "colab": {
          "base_uri": "https://localhost:8080/"
        },
        "id": "R6xMMDqsNbPr",
        "outputId": "c7ef0392-82a0-4958-c811-259131de1108"
      },
      "execution_count": null,
      "outputs": [
        {
          "output_type": "stream",
          "name": "stderr",
          "text": [
            "[nltk_data] Downloading package wordnet to /root/nltk_data...\n",
            "[nltk_data]   Package wordnet is already up-to-date!\n"
          ]
        },
        {
          "output_type": "execute_result",
          "data": {
            "text/plain": [
              "True"
            ]
          },
          "metadata": {},
          "execution_count": 13
        }
      ]
    },
    {
      "cell_type": "code",
      "execution_count": null,
      "metadata": {
        "id": "z6pFGPFNMYg8"
      },
      "outputs": [],
      "source": [
        "from nltk.corpus import wordnet\n",
        "\n",
        "# Example words\n",
        "word_list = ['happy', 'run', 'big', 'quick', 'excited']\n",
        "\n",
        "def get_word_synonyms(word):\n",
        "    synonyms = wordnet.synsets(word)\n",
        "    return synonyms"
      ]
    },
    {
      "cell_type": "code",
      "source": [
        "# a) Find the 3rd meaning of the word in the list\n",
        "def find_third_meaning(synonyms):\n",
        "    if len(synonyms) >= 3:\n",
        "        third_meaning = synonyms[2].definition()\n",
        "        return third_meaning\n",
        "    else:\n",
        "        return \"Word does not have 3 meanings\""
      ],
      "metadata": {
        "id": "FqmWlOwHMsyl"
      },
      "execution_count": null,
      "outputs": []
    },
    {
      "cell_type": "code",
      "source": [
        "# b) Extract the nouns of the word from the synonyms list\n",
        "def extract_nouns(synonyms):\n",
        "    nouns = [synonym for synonym in synonyms if synonym.pos() == 'n']\n",
        "    return nouns\n"
      ],
      "metadata": {
        "id": "4brqK7I8MvYa"
      },
      "execution_count": null,
      "outputs": []
    },
    {
      "cell_type": "code",
      "source": [
        "# c) Extract the verbs of the word from the synonyms list\n",
        "def extract_verbs(synonyms):\n",
        "    verbs = [synonym for synonym in synonyms if synonym.pos() == 'v']\n",
        "    return verbs\n"
      ],
      "metadata": {
        "id": "C4v4GuLkM4pV"
      },
      "execution_count": null,
      "outputs": []
    },
    {
      "cell_type": "code",
      "source": [
        "# d) Extract the adjectives of the word from the synonyms list\n",
        "def extract_adjectives(synonyms):\n",
        "    adjectives = [synonym for synonym in synonyms if synonym.pos() == 'a']\n",
        "    return adjectives"
      ],
      "metadata": {
        "id": "xrqaLUABM7Ab"
      },
      "execution_count": null,
      "outputs": []
    },
    {
      "cell_type": "code",
      "source": [
        "# e) Extract the adverbs of the word from the synonyms list\n",
        "def extract_adverbs(synonyms):\n",
        "    adverbs = [synonym for synonym in synonyms if synonym.pos() == 'r']\n",
        "    return adverbs"
      ],
      "metadata": {
        "id": "c6Qk69iZM9Vm"
      },
      "execution_count": null,
      "outputs": []
    },
    {
      "cell_type": "code",
      "source": [
        "# f) Extract the definition of the word\n",
        "def extract_definition(word):\n",
        "    definition = wordnet.synsets(word)[0].definition()\n",
        "    return definition\n"
      ],
      "metadata": {
        "id": "L5m1TnliM_gd"
      },
      "execution_count": null,
      "outputs": []
    },
    {
      "cell_type": "code",
      "source": [
        "# g) Find the hypernyms of each word\n",
        "def find_hypernyms(synonyms):\n",
        "    hypernyms = [synonym.hypernyms() for synonym in synonyms]\n",
        "    return hypernyms"
      ],
      "metadata": {
        "id": "vqf-S7U2NB5R"
      },
      "execution_count": null,
      "outputs": []
    },
    {
      "cell_type": "code",
      "source": [
        "# h) Find the hyponyms of each word\n",
        "def find_hyponyms(synonyms):\n",
        "    hyponyms = [synonym.hyponyms() for synonym in synonyms]\n",
        "    return hyponyms"
      ],
      "metadata": {
        "id": "FMHQGzHpNHMY"
      },
      "execution_count": null,
      "outputs": []
    },
    {
      "cell_type": "code",
      "source": [
        "# i) Find the similarities of any two hyponyms of a word\n",
        "def find_hyponym_similarities(synonym1, synonym2):\n",
        "    hyponyms_1 = synonym1.hyponyms()\n",
        "    hyponyms_2 = synonym2.hyponyms()\n",
        "    similarities = [h1.path_similarity(h2) for h1 in hyponyms_1 for h2 in hyponyms_2]\n",
        "    similarities = [sim for sim in similarities if sim is not None]\n",
        "    return max(similarities)\n"
      ],
      "metadata": {
        "id": "POw1Sr-YNKoJ"
      },
      "execution_count": null,
      "outputs": []
    },
    {
      "cell_type": "code",
      "source": [
        "# Example usage\n",
        "for word in word_list:\n",
        "    print(\"Word:\", word)\n",
        "    synonyms = get_word_synonyms(word)\n",
        "    third_meaning = find_third_meaning(synonyms)\n",
        "    print(\"Third meaning:\", third_meaning)\n",
        "    print(\"Nouns:\", extract_nouns(synonyms))\n",
        "    print(\"Verbs:\", extract_verbs(synonyms))\n",
        "    print(\"Adjectives:\", extract_adjectives(synonyms))\n",
        "    print(\"Adverbs:\", extract_adverbs(synonyms))\n",
        "    print(\"Definition:\", extract_definition(word))\n",
        "    print(\"Hypernyms:\", find_hypernyms(synonyms))\n",
        "    print(\"Hyponyms:\", find_hyponyms(synonyms))\n",
        "    print(\"\\n\")"
      ],
      "metadata": {
        "colab": {
          "base_uri": "https://localhost:8080/"
        },
        "id": "KaoP8j1gNO1s",
        "outputId": "fab65f1d-3047-47ca-c4ad-db65895a2bd7"
      },
      "execution_count": null,
      "outputs": [
        {
          "output_type": "stream",
          "name": "stdout",
          "text": [
            "Word: happy\n",
            "Third meaning: eagerly disposed to act or to be of service\n",
            "Nouns: []\n",
            "Verbs: []\n",
            "Adjectives: [Synset('happy.a.01')]\n",
            "Adverbs: []\n",
            "Definition: enjoying or showing or marked by joy or pleasure\n",
            "Hypernyms: [[], [], [], []]\n",
            "Hyponyms: [[], [], [], []]\n",
            "\n",
            "\n",
            "Word: run\n",
            "Third meaning: a race run on foot\n",
            "Nouns: [Synset('run.n.01'), Synset('test.n.05'), Synset('footrace.n.01'), Synset('streak.n.01'), Synset('run.n.05'), Synset('run.n.06'), Synset('run.n.07'), Synset('run.n.08'), Synset('run.n.09'), Synset('run.n.10'), Synset('rivulet.n.01'), Synset('political_campaign.n.01'), Synset('run.n.13'), Synset('discharge.n.06'), Synset('run.n.15'), Synset('run.n.16')]\n",
            "Verbs: [Synset('run.v.01'), Synset('scat.v.01'), Synset('run.v.03'), Synset('operate.v.01'), Synset('run.v.05'), Synset('run.v.06'), Synset('function.v.01'), Synset('range.v.01'), Synset('campaign.v.01'), Synset('play.v.18'), Synset('run.v.11'), Synset('tend.v.01'), Synset('run.v.13'), Synset('run.v.14'), Synset('run.v.15'), Synset('run.v.16'), Synset('prevail.v.03'), Synset('run.v.18'), Synset('run.v.19'), Synset('carry.v.15'), Synset('run.v.21'), Synset('guide.v.05'), Synset('run.v.23'), Synset('run.v.24'), Synset('run.v.25'), Synset('run.v.26'), Synset('run.v.27'), Synset('run.v.28'), Synset('run.v.29'), Synset('run.v.30'), Synset('run.v.31'), Synset('run.v.32'), Synset('run.v.33'), Synset('run.v.34'), Synset('ply.v.03'), Synset('hunt.v.01'), Synset('race.v.02'), Synset('move.v.13'), Synset('melt.v.01'), Synset('ladder.v.01'), Synset('run.v.41')]\n",
            "Adjectives: []\n",
            "Adverbs: []\n",
            "Definition: a score in baseball made by a runner touching all four bases safely\n",
            "Hypernyms: [[Synset('score.n.10')], [Synset('attempt.n.01')], [Synset('race.n.02')], [Synset('succession.n.02')], [Synset('football_play.n.01')], [Synset('trip.n.01')], [Synset('locomotion.n.02')], [Synset('time_period.n.01')], [Synset('liberty.n.02')], [Synset('indefinite_quantity.n.01')], [Synset('stream.n.01')], [Synset('race.n.01')], [Synset('damage.n.01')], [Synset('flow.n.01')], [Synset('sequence.n.02')], [Synset('trip.n.01')], [Synset('travel_rapidly.v.01')], [Synset('leave.v.01')], [Synset('be.v.03')], [Synset('direct.v.04')], [Synset('be.v.01')], [Synset('move.v.03')], [], [Synset('be.v.01')], [Synset('race.v.02')], [], [Synset('travel.v.01')], [Synset('be.v.01')], [Synset('function.v.01')], [Synset('become.v.01')], [Synset('process.v.01')], [Synset('incur.v.01')], [Synset('continue.v.10')], [Synset('occur.v.03')], [Synset('enforce.v.01')], [Synset('circulate.v.02')], [Synset('carry_through.v.01')], [], [Synset('pass.v.22')], [Synset('succeed.v.01')], [Synset('trade.v.01')], [Synset('move.v.02')], [Synset('diffuse.v.01')], [Synset('sail.v.03')], [Synset('pass.v.01')], [Synset('last.v.01')], [Synset('free.v.01')], [Synset('accompany.v.02')], [Synset('run.v.01')], [Synset('travel.v.01')], [Synset('travel.v.03')], [Synset('capture.v.06')], [Synset('compete.v.01')], [Synset('change.v.02')], [Synset('dissolve.v.02')], [Synset('break.v.02')], [Synset('disintegrate.v.01')]]\n",
            "Hyponyms: [[Synset('earned_run.n.01'), Synset('run_batted_in.n.01'), Synset('unearned_run.n.01')], [Synset('assay.n.04'), Synset('audition.n.02'), Synset('clinical_trial.n.01'), Synset('double_blind.n.01'), Synset('field_trial.n.03'), Synset('fitting.n.04'), Synset('mot.n.02'), Synset('pilot_project.n.01'), Synset('preclinical_trial.n.01'), Synset('snellen_test.n.01')], [Synset('funrun.n.01'), Synset('marathon.n.02'), Synset('obstacle_race.n.01'), Synset('steeplechase.n.01'), Synset('track_event.n.01')], [Synset('losing_streak.n.01'), Synset('winning_streak.n.01')], [Synset('draw.n.07'), Synset('end_run.n.01'), Synset('return.n.12'), Synset('reverse.n.05'), Synset('rush.n.07')], [], [Synset('dash.n.02')], [Synset('print_run.n.01'), Synset('run-time.n.02')], [], [], [], [Synset('governor's_race.n.01'), Synset('senate_campaign.n.01')], [], [Synset('escape.n.07'), Synset('jet.n.02')], [], [], [Synset('hare.v.01'), Synset('jog.v.03'), Synset('lope.v.01'), Synset('outrun.v.01'), Synset('romp.v.02'), Synset('run.v.33'), Synset('run_bases.v.01'), Synset('rush.v.05'), Synset('scurry.v.01'), Synset('sprint.v.01'), Synset('streak.v.02'), Synset('trot.v.01')], [Synset('flee.v.01'), Synset('skedaddle.v.01')], [Synset('come.v.09'), Synset('go_far.v.02'), Synset('radiate.v.03')], [Synset('block.v.05'), Synset('financier.v.01'), Synset('warm_up.v.01'), Synset('work.v.16')], [], [Synset('circulate.v.04'), Synset('drain.v.01'), Synset('eddy.v.01'), Synset('flush.v.02'), Synset('gutter.v.02'), Synset('jet.v.01'), Synset('pour.v.04'), Synset('run_down.v.02'), Synset('seep.v.01'), Synset('spill.v.02'), Synset('stream.v.05'), Synset('tide.v.01'), Synset('trickle.v.01'), Synset('waste.v.04')], [Synset('cut.v.24'), Synset('double.v.04'), Synset('roll.v.07'), Synset('run.v.13'), Synset('service.v.01')], [], [Synset('cross-file.v.01'), Synset('rerun.v.03'), Synset('stump.v.03'), Synset('whistlestop.v.01')], [], [], [Synset('gravitate.v.01'), Synset('suffer.v.09'), Synset('take_kindly_to.v.01')], [], [], [Synset('rerun.v.04')], [], [Synset('carry_over.v.01'), Synset('reverberate.v.02')], [], [Synset('step.v.03')], [], [], [Synset('rub.v.01'), Synset('thread.v.02'), Synset('thread.v.04')], [], [], [], [], [Synset('crock.v.01')], [], [], [], [], [], [], [], [], [Synset('course.v.03'), Synset('drive.v.21'), Synset('drive.v.22'), Synset('falcon.v.01'), Synset('ferret.v.02'), Synset('fowl.v.01'), Synset('fowl.v.02'), Synset('foxhunt.v.01'), Synset('hawk.v.02'), Synset('jacklight.v.01'), Synset('poach.v.01'), Synset('rabbit.v.01'), Synset('scrounge.v.01'), Synset('seal.v.06'), Synset('snipe.v.01'), Synset('still-hunt.v.01'), Synset('turtle.v.02'), Synset('whale.v.01')], [Synset('boat-race.v.01'), Synset('campaign.v.01'), Synset('horse-race.v.01'), Synset('place.v.15'), Synset('show.v.12'), Synset('speed_skate.v.01')], [], [Synset('fuse.v.04'), Synset('try.v.08')], [], []]\n",
            "\n",
            "\n",
            "Word: big\n",
            "Third meaning: very intense\n",
            "Nouns: []\n",
            "Verbs: []\n",
            "Adjectives: [Synset('large.a.01')]\n",
            "Adverbs: [Synset('big.r.01'), Synset('boastfully.r.01'), Synset('big.r.03'), Synset('big.r.04')]\n",
            "Definition: above average in size or number or quantity or magnitude or extent\n",
            "Hypernyms: [[], [], [], [], [], [], [], [], [], [], [], [], [], [], [], [], []]\n",
            "Hyponyms: [[], [], [], [], [], [], [], [], [], [], [], [], [], [], [], [], []]\n",
            "\n",
            "\n",
            "Word: quick\n",
            "Third meaning: hurried and brief\n",
            "Nouns: [Synset('quick.n.01')]\n",
            "Verbs: []\n",
            "Adjectives: []\n",
            "Adverbs: [Synset('promptly.r.01')]\n",
            "Definition: any area of the body that is highly sensitive to pain (as the flesh underneath the skin or a fingernail or toenail)\n",
            "Hypernyms: [[Synset('area.n.03')], [], [], [], [], [], [], []]\n",
            "Hyponyms: [[], [], [], [], [], [], [], []]\n",
            "\n",
            "\n",
            "Word: excited\n",
            "Third meaning: stir feelings in\n",
            "Nouns: []\n",
            "Verbs: [Synset('excite.v.01'), Synset('stimulate.v.01'), Synset('stimulate.v.06'), Synset('agitate.v.02'), Synset('arouse.v.07'), Synset('stimulate.v.03'), Synset('excite.v.07'), Synset('excite.v.08')]\n",
            "Adjectives: [Synset('excited.a.02')]\n",
            "Adverbs: []\n",
            "Definition: arouse or elicit a feeling\n",
            "Hypernyms: [[Synset('arouse.v.01')], [Synset('affect.v.01')], [Synset('sensitize.v.02')], [Synset('disturb.v.01')], [Synset('stimulate.v.03')], [Synset('arouse.v.01')], [Synset('change.v.01')], [Synset('change.v.01')], [], [], [], []]\n",
            "Hyponyms: [[Synset('enthuse.v.01')], [Synset('innervate.v.02'), Synset('irritate.v.03'), Synset('quicken.v.03')], [Synset('disgust.v.01'), Synset('fellate.v.01'), Synset('horripilate.v.02'), Synset('masturbate.v.01'), Synset('masturbate.v.02'), Synset('thrill.v.01'), Synset('whet.v.01'), Synset('work.v.18')], [Synset('bother.v.05'), Synset('electrify.v.01'), Synset('hype_up.v.01'), Synset('pother.v.01')], [Synset('tempt.v.05')], [Synset('arouse.v.07'), Synset('elate.v.01'), Synset('frighten.v.01'), Synset('fuel.v.04'), Synset('inspire.v.01'), Synset('tempt.v.03'), Synset('thrill.v.02'), Synset('titillate.v.02')], [], [], [], [], [], []]\n",
            "\n",
            "\n"
          ]
        }
      ]
    }
  ]
}